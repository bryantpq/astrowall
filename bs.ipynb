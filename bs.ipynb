{
 "cells": [
  {
   "cell_type": "code",
   "execution_count": 20,
   "metadata": {
    "collapsed": true
   },
   "outputs": [],
   "source": [
    "'''\n",
    "TODO:\n",
    "Randomize user agents\n",
    "Figure out why there is a difference in the html files\n",
    "Add compatibility for Windows\n",
    "'''"
   ]
  },
  {
   "cell_type": "code",
   "execution_count": 1,
   "metadata": {
    "collapsed": false
   },
   "outputs": [],
   "source": [
    "import requests\n",
    "import sys\n",
    "from bs4 import BeautifulSoup"
   ]
  },
  {
   "cell_type": "code",
   "execution_count": 2,
   "metadata": {
    "collapsed": false
   },
   "outputs": [],
   "source": [
    "url = \"https://www.reddit.com/r/spaceporn\"\n",
    "headers = {'User-Agent': 'Mozilla/5.0 (Macintosh; Intel Mac OS X 10_10_1) AppleWebKit/537.36 (KHTML, like Gecko) Chrome/39.0.2171.95 Safari/537.36'}\n",
    "response = requests.get(url, allow_redirects=True, headers=headers)"
   ]
  },
  {
   "cell_type": "code",
   "execution_count": 12,
   "metadata": {
    "collapsed": false,
    "scrolled": true
   },
   "outputs": [
    {
     "data": {
      "text/plain": [
       "[<p class=\"s1rdie1g-12 qKTMJ\">566k</p>,\n",
       " <p class=\"s1rdie1g-13 hedoId\" id=\"IdCard--Subscribers--undefined--t5_2s9jc\">Subscribers</p>,\n",
       " <p class=\"s1rdie1g-12 qKTMJ\">4.2k</p>,\n",
       " <p class=\"s1rdie1g-13 hedoId\" id=\"IdCard--CurrentlyViewing--undefined--t5_2s9jc\">Online</p>,\n",
       " <p class=\"s1rdie1g-14 BIXMz\">SpacePorn is a subreddit devoted to high-quality images of space. As long as the focus of the image is of the stars or related to space in some way then it is allowed. This includes artwork as well as photography.</p>]"
      ]
     },
     "execution_count": 12,
     "metadata": {},
     "output_type": "execute_result"
    }
   ],
   "source": [
    "soup = BeautifulSoup(response.content, \"html.parser\")\n",
    "soup.find_all('p')"
   ]
  },
  {
   "cell_type": "code",
   "execution_count": 18,
   "metadata": {
    "collapsed": false
   },
   "outputs": [],
   "source": [
    "f = open(\"spaceporn\", 'r')\n",
    "soup = BeautifulSoup(f.read(), \"html.parser\")\n"
   ]
  },
  {
   "cell_type": "code",
   "execution_count": 19,
   "metadata": {
    "collapsed": false
   },
   "outputs": [
    {
     "data": {
      "text/plain": [
       "[]"
      ]
     },
     "execution_count": 19,
     "metadata": {},
     "output_type": "execute_result"
    }
   ],
   "source": [
    "soup.find_all('a', {'data-event-action': 'title'})"
   ]
  },
  {
   "cell_type": "code",
   "execution_count": 19,
   "metadata": {
    "collapsed": true
   },
   "outputs": [
    {
     "name": "stdout",
     "output_type": "stream",
     "text": [
      "23\n"
     ]
    },
    {
     "data": {
      "text/plain": [
       "[<a class=\"title may-blank loggedin outbound\" data-event-action=\"title\" data-href-url=\"https://cdn.eso.org/images/large/eso0905a.jpg\" data-outbound-expiration=\"1532671164000\" data-outbound-url=\"https://out.reddit.com/t3_9275r8?url=https%3A%2F%2Fcdn.eso.org%2Fimages%2Flarge%2Feso0905a.jpg&amp;token=AQAAvLRaWxEEgGpcJVI-zEk-L2wo9JqkjbIZfPAMx1LoEirNhtsp&amp;app_name=reddit.com\" href=\"https://cdn.eso.org/images/large/eso0905a.jpg\" rel=\"\" tabindex=\"1\">The Carina Nebula [8408 x 8337]</a>,\n",
       " <a class=\"title may-blank loggedin \" data-event-action=\"title\" data-href-url=\"/r/spaceporn/comments/9299lt/starstruck_the_milky_way_rises_over_quabbin/\" data-inbound-url=\"/r/spaceporn/comments/9299lt/starstruck_the_milky_way_rises_over_quabbin/?utm_content=title&amp;utm_medium=hot&amp;utm_source=reddit&amp;utm_name=spaceporn\" href=\"/r/spaceporn/comments/9299lt/starstruck_the_milky_way_rises_over_quabbin/\" rel=\"\" tabindex=\"1\">Starstruck: The Milky Way rises over Quabbin Reservoir. Possibly one of the darkest sky sites in Massachusetts [2048x2035][OC]</a>,\n",
       " <a class=\"title may-blank loggedin outbound\" data-event-action=\"title\" data-href-url=\"https://c1.staticflickr.com/5/4083/5052125307_2db8c53793_o.jpg\" data-outbound-expiration=\"1532671164000\" data-outbound-url=\"https://out.reddit.com/t3_91s7ux?url=https%3A%2F%2Fc1.staticflickr.com%2F5%2F4083%2F5052125307_2db8c53793_o.jpg&amp;token=AQAAvLRaW6FS7Lfc86lZMc2l-ONRXdHiCEQiiW1iVSM94Yyds0o5&amp;app_name=reddit.com\" href=\"https://c1.staticflickr.com/5/4083/5052125307_2db8c53793_o.jpg\" rel=\"\" tabindex=\"1\">A crescent Earth 'Earthrise' seen from the Apollo 12 spacecraft [1536 x 1527]</a>,\n",
       " <a class=\"title may-blank loggedin \" data-event-action=\"title\" data-href-url=\"/r/spaceporn/comments/92562n/octop_picture_was_taken_with_a_huawei_p9_and_a/\" data-inbound-url=\"/r/spaceporn/comments/92562n/octop_picture_was_taken_with_a_huawei_p9_and_a/?utm_content=title&amp;utm_medium=hot&amp;utm_source=reddit&amp;utm_name=spaceporn\" href=\"/r/spaceporn/comments/92562n/octop_picture_was_taken_with_a_huawei_p9_and_a/\" rel=\"\" tabindex=\"1\">[OC]Top picture was taken with a Huawei P9 and a birdwatching telescope through a dirty two pane window at an angle. Bottom picture is without the telescope.[4272x5846]</a>,\n",
       " <a class=\"title may-blank loggedin outbound\" data-event-action=\"title\" data-href-url=\"https://c1.staticflickr.com/1/846/43592129302_85183df8dd_o.jpg\" data-outbound-expiration=\"1532671164000\" data-outbound-url=\"https://out.reddit.com/t3_91w4oh?url=https%3A%2F%2Fc1.staticflickr.com%2F1%2F846%2F43592129302_85183df8dd_o.jpg&amp;token=AQAAvLRaWzRgDtQOBP3b7PL6Yl2NZzA547U7FKQcldpaYrV3Rlh-&amp;app_name=reddit.com\" href=\"https://c1.staticflickr.com/1/846/43592129302_85183df8dd_o.jpg\" rel=\"\" tabindex=\"1\">Sunset Between the Trees[OC][6000x4000]</a>,\n",
       " <a class=\"bylink comments may-blank\" data-event-action=\"comments\" data-href-url=\"/r/spaceporn/comments/91w4oh/sunset_between_the_treesoc6000x4000/\" data-inbound-url=\"/r/spaceporn/comments/91w4oh/sunset_between_the_treesoc6000x4000/?utm_content=comments&amp;utm_medium=hot&amp;utm_source=reddit&amp;utm_name=spaceporn\" href=\"https://www.reddit.com/r/spaceporn/comments/91w4oh/sunset_between_the_treesoc6000x4000/\" rel=\"nofollow\">11 comments</a>,\n",
       " <a class=\"title may-blank loggedin \" data-event-action=\"title\" data-href-url=\"/r/spaceporn/comments/91w7wc/cubesats_deploying_from_the_iss_5568_x_3712/\" data-inbound-url=\"/r/spaceporn/comments/91w7wc/cubesats_deploying_from_the_iss_5568_x_3712/?utm_content=title&amp;utm_medium=hot&amp;utm_source=reddit&amp;utm_name=spaceporn\" href=\"/r/spaceporn/comments/91w7wc/cubesats_deploying_from_the_iss_5568_x_3712/\" rel=\"\" tabindex=\"1\">CubeSats Deploying from the ISS [5568 x 3712]</a>,\n",
       " <a class=\"title may-blank loggedin outbound\" data-event-action=\"title\" data-href-url=\"https://www.nasa.gov/sites/default/files/thumbnails/image/hubble_friday_05132016.jpg\" data-outbound-expiration=\"1532671164000\" data-outbound-url=\"https://out.reddit.com/t3_91lbue?url=https%3A%2F%2Fwww.nasa.gov%2Fsites%2Fdefault%2Ffiles%2Fthumbnails%2Fimage%2Fhubble_friday_05132016.jpg&amp;token=AQAAvLRaW0vjhBSGaTHdvwa1plu5D_2oCmsrhpXoCtHjb23sm3DL&amp;app_name=reddit.com\" href=\"https://www.nasa.gov/sites/default/files/thumbnails/image/hubble_friday_05132016.jpg\" rel=\"\" tabindex=\"1\">NGC 6814 [1280x1280]</a>,\n",
       " <a class=\"bylink comments may-blank\" data-event-action=\"comments\" data-href-url=\"/r/spaceporn/comments/91lbue/ngc_6814_1280x1280/\" data-inbound-url=\"/r/spaceporn/comments/91lbue/ngc_6814_1280x1280/?utm_content=comments&amp;utm_medium=hot&amp;utm_source=reddit&amp;utm_name=spaceporn\" href=\"https://www.reddit.com/r/spaceporn/comments/91lbue/ngc_6814_1280x1280/\" rel=\"nofollow\">5 comments</a>,\n",
       " <a class=\"title may-blank loggedin \" data-event-action=\"title\" data-href-url=\"/r/spaceporn/comments/91h94k/my_image_of_messier_8_the_lagoon_nebula/\" data-inbound-url=\"/r/spaceporn/comments/91h94k/my_image_of_messier_8_the_lagoon_nebula/?utm_content=title&amp;utm_medium=hot&amp;utm_source=reddit&amp;utm_name=spaceporn\" href=\"/r/spaceporn/comments/91h94k/my_image_of_messier_8_the_lagoon_nebula/\" rel=\"\" tabindex=\"1\">My Image of Messier 8: The Lagoon Nebula [OC][3776x2552]</a>,\n",
       " <a class=\"title may-blank loggedin outbound\" data-event-action=\"title\" data-href-url=\"https://c2.staticflickr.com/2/1827/42604134635_f3e0783737_o.jpg\" data-outbound-expiration=\"1532671164000\" data-outbound-url=\"https://out.reddit.com/t3_9175k3?url=https%3A%2F%2Fc2.staticflickr.com%2F2%2F1827%2F42604134635_f3e0783737_o.jpg&amp;token=AQAAvLRaW7qHzOjUeKfUeyche2UK1t2YP_5jopCnZ3UtVXrRLfCC&amp;app_name=reddit.com\" href=\"https://c2.staticflickr.com/2/1827/42604134635_f3e0783737_o.jpg\" rel=\"\" tabindex=\"1\">Buzz Aldrin on the Moon [3900 x 3900]</a>,\n",
       " <a class=\"title may-blank loggedin outbound\" data-event-action=\"title\" data-href-url=\"https://imgur.com/8TdxH9s\" data-outbound-expiration=\"1532671164000\" data-outbound-url=\"https://out.reddit.com/t3_91kcw1?url=https%3A%2F%2Fimgur.com%2F8TdxH9s&amp;token=AQAAvLRaW9uqr7DoptPY2ao_C2NkbK8Aoc8_G-nT-QPbPzQZgVds&amp;app_name=reddit.com\" href=\"https://imgur.com/8TdxH9s\" rel=\"\" tabindex=\"1\">July 24, 2018 12:21 am. The moon looks sideways [4032x2268]</a>,\n",
       " <a class=\"title may-blank loggedin outbound\" data-event-action=\"title\" data-href-url=\"https://c1.staticflickr.com/9/8286/7881547674_fbd8a40a6d_o.jpg\" data-outbound-expiration=\"1532671164000\" data-outbound-url=\"https://out.reddit.com/t3_9175sx?url=https%3A%2F%2Fc1.staticflickr.com%2F9%2F8286%2F7881547674_fbd8a40a6d_o.jpg&amp;token=AQAAvLRaW8RO-YehUsbU7sS5n6DXZix7eezltl0tnc5acOb_lyD1&amp;app_name=reddit.com\" href=\"https://c1.staticflickr.com/9/8286/7881547674_fbd8a40a6d_o.jpg\" rel=\"\" tabindex=\"1\">The Apollo 11 Lunar Module ascent stage, with Astronauts Neil A. Armstrong and Edwin E. Aldrin Jr. aboard, is photographed from the Command and Service Modules in lunar orbit. This view is looking west with the earth rising above the lunar horizon. [4132 x 4132]</a>,\n",
       " <a class=\"title may-blank loggedin \" data-event-action=\"title\" data-href-url=\"/r/spaceporn/comments/917rjo/explosions_in_the_sky_fog_rolls_in_in_this_area/\" data-inbound-url=\"/r/spaceporn/comments/917rjo/explosions_in_the_sky_fog_rolls_in_in_this_area/?utm_content=title&amp;utm_medium=hot&amp;utm_source=reddit&amp;utm_name=spaceporn\" href=\"/r/spaceporn/comments/917rjo/explosions_in_the_sky_fog_rolls_in_in_this_area/\" rel=\"\" tabindex=\"1\">Explosions In The Sky - Fog Rolls In In This Area Near My Home When Conditions Are Perfect. I Was Lucky Enough One Day To See The Sky And Fog Line Up Simultaneously. [OC] [5400x3601]</a>,\n",
       " <a class=\"title may-blank loggedin outbound\" data-event-action=\"title\" data-href-url=\"https://i.imgur.com/jOGHEGH.jpg\" data-outbound-expiration=\"1532671164000\" data-outbound-url=\"https://out.reddit.com/t3_911e7f?url=https%3A%2F%2Fi.imgur.com%2FjOGHEGH.jpg&amp;token=AQAAvLRaWzpM4NdkmRSdrrjeXtYsbelY7xQy3Dti6OQtdTyn57bc&amp;app_name=reddit.com\" href=\"https://i.imgur.com/jOGHEGH.jpg\" rel=\"\" tabindex=\"1\">Melotte 15, Inside the Heart [1280 x 1241]</a>,\n",
       " <a class=\"title may-blank loggedin outbound\" data-event-action=\"title\" data-href-url=\"https://www.nasa.gov/sites/default/files/thumbnails/image/innaarsuit_oli_2018186_lrg.jpg\" data-outbound-expiration=\"1532671164000\" data-outbound-url=\"https://out.reddit.com/t3_91c3gi?url=https%3A%2F%2Fwww.nasa.gov%2Fsites%2Fdefault%2Ffiles%2Fthumbnails%2Fimage%2Finnaarsuit_oli_2018186_lrg.jpg&amp;token=AQAAvLRaW5-JnBsmh_RRBDlkTt5GuTlYLSvmTKyIgEMf7bQ0yEgr&amp;app_name=reddit.com\" href=\"https://www.nasa.gov/sites/default/files/thumbnails/image/innaarsuit_oli_2018186_lrg.jpg\" rel=\"\" tabindex=\"1\">In July 2018, an iceberg weighing 11 million tons parked just offshore of Innaarsuit, a small island village in northwestern Greenland. [4076 x 2450]</a>,\n",
       " <a class=\"title may-blank loggedin outbound\" data-event-action=\"title\" data-href-url=\"https://www.darpa.mil/ddm_gallery/SEE-Image.jpg\" data-outbound-expiration=\"1532671164000\" data-outbound-url=\"https://out.reddit.com/t3_91bj8w?url=https%3A%2F%2Fwww.darpa.mil%2Fddm_gallery%2FSEE-Image.jpg&amp;token=AQAAvLRaW6fxrcQaPueccUMiQpnInEptToxMR9mPXbXJcY4HzRoF&amp;app_name=reddit.com\" href=\"https://www.darpa.mil/ddm_gallery/SEE-Image.jpg\" rel=\"\" tabindex=\"1\">The Aurora [5000 x 3333] [OS]</a>,\n",
       " <a class=\"title may-blank loggedin \" data-event-action=\"title\" data-href-url=\"/r/spaceporn/comments/9185u9/our_neighbour_the_andromeda_galaxy_kemptville/\" data-inbound-url=\"/r/spaceporn/comments/9185u9/our_neighbour_the_andromeda_galaxy_kemptville/?utm_content=title&amp;utm_medium=hot&amp;utm_source=reddit&amp;utm_name=spaceporn\" href=\"/r/spaceporn/comments/9185u9/our_neighbour_the_andromeda_galaxy_kemptville/\" rel=\"\" tabindex=\"1\">Our Neighbour the Andromeda Galaxy - Kemptville, Canada [OC] [4640x3472]</a>,\n",
       " <a class=\"title may-blank loggedin outbound\" data-event-action=\"title\" data-href-url=\"https://apod.nasa.gov/apod/image/1612/ic405s_2block.jpg\" data-outbound-expiration=\"1532671164000\" data-outbound-url=\"https://out.reddit.com/t3_90xla6?url=https%3A%2F%2Fapod.nasa.gov%2Fapod%2Fimage%2F1612%2Fic405s_2block.jpg&amp;token=AQAAvLRaW8WGu2F_rWey1_ss5af2Ps9DfhEMGiwd-1PQNqZZA1NJ&amp;app_name=reddit.com\" href=\"https://apod.nasa.gov/apod/image/1612/ic405s_2block.jpg\" rel=\"\" tabindex=\"1\">Flaming Star Nebula [1500 x 1491]</a>,\n",
       " <a class=\"title may-blank loggedin outbound\" data-event-action=\"title\" data-href-url=\"https://i.imgur.com/kxjJOwd.jpg\" data-outbound-expiration=\"1532671164000\" data-outbound-url=\"https://out.reddit.com/t3_90vyhf?url=https%3A%2F%2Fi.imgur.com%2FkxjJOwd.jpg&amp;token=AQAAvLRaW5PRPZIEqWQ16TX6lLOmM6RVI0EmHfIXlI_kJ8N4U9f8&amp;app_name=reddit.com\" href=\"https://i.imgur.com/kxjJOwd.jpg\" rel=\"\" tabindex=\"1\">Telstar 19V launched on a Falcon 9 Block 5 [OC] [5184x3465]</a>,\n",
       " <a class=\"title may-blank loggedin outbound\" data-event-action=\"title\" data-href-url=\"https://m.imgur.com/a/wpiwFAT\" data-outbound-expiration=\"1532671164000\" data-outbound-url=\"https://out.reddit.com/t3_91324b?url=https%3A%2F%2Fm.imgur.com%2Fa%2FwpiwFAT&amp;token=AQAAvLRaW323sACWTTaayKLcJ6u8dH_m_9XHpL0AQqsztHIuLKjF&amp;app_name=reddit.com\" href=\"https://m.imgur.com/a/wpiwFAT\" rel=\"\" tabindex=\"1\">A night in Wadi Rum, Jordan [6499 x 4031]</a>,\n",
       " <a class=\"title may-blank loggedin outbound\" data-event-action=\"title\" data-href-url=\"https://i.gyazo.com/thumb/800_w/e39934da064f933883095b5ee4e2e686-jpg.jpg\" data-outbound-expiration=\"1532671164000\" data-outbound-url=\"https://out.reddit.com/t3_910abb?url=https%3A%2F%2Fi.gyazo.com%2Fthumb%2F800_w%2Fe39934da064f933883095b5ee4e2e686-jpg.jpg&amp;token=AQAAvLRaW_QV-kfjeH45CNKPQu5Zzviri5VYEIBSHDvn3dUaSWFD&amp;app_name=reddit.com\" href=\"https://i.gyazo.com/thumb/800_w/e39934da064f933883095b5ee4e2e686-jpg.jpg\" rel=\"\" tabindex=\"1\">Pathway to the Stars (ft. Mars &amp; light pollution) - Long Island, NY [OC][6240x4160]</a>,\n",
       " <a class=\"title may-blank loggedin outbound\" data-event-action=\"title\" data-href-url=\"https://apod.nasa.gov/apod/image/1807/KettlePoint.jpg\" data-outbound-expiration=\"1532671164000\" data-outbound-url=\"https://out.reddit.com/t3_90yc2d?url=https%3A%2F%2Fapod.nasa.gov%2Fapod%2Fimage%2F1807%2FKettlePoint.jpg&amp;token=AQAAvLRaW3sjbtJ4cx9fPUvua5BOg5i5-6Dh23DaR4g1uZZ9Dwwu&amp;app_name=reddit.com\" href=\"https://apod.nasa.gov/apod/image/1807/KettlePoint.jpg\" rel=\"\" tabindex=\"1\">The Teapot and the Milky Way [1751 x 2048]</a>]"
      ]
     },
     "execution_count": 19,
     "metadata": {},
     "output_type": "execute_result"
    }
   ],
   "source": [
    "import re\n",
    "from constants import DEFAULT, TOL\n",
    "anc_pass = []\n",
    "\n",
    "for anc in soup.find_all('a'):\n",
    "    res = re.search('\\d{4}\\s*[x]\\s*\\d{4}', str(anc)) # look for \"0000 x 0000\" tags\n",
    "    if res:\n",
    "        anc_pass.append(anc)\n",
    "        w = int(res.group()[:4])\n",
    "        h = int(res.group()[-4:])\n",
    "        if abs(DEFAULT - w / h) < TOL:\n",
    "            pass\n",
    "\n",
    "# clues: data-outbound-url, data-href-url\n",
    "print(len(anc_pass))\n",
    "anc_pass"
   ]
  },
  {
   "cell_type": "code",
   "execution_count": null,
   "metadata": {
    "collapsed": false
   },
   "outputs": [],
   "source": []
  },
  {
   "cell_type": "code",
   "execution_count": 10,
   "metadata": {
    "collapsed": true
   },
   "outputs": [],
   "source": [
    "def astrowall():\n",
    "    status, folder = gen_folder()\n",
    "\n",
    "    print(\"Scraping...\" if status else \"You already scraped today.\")\n",
    "\n",
    "    if status:\n",
    "        anchors  = scrapity_scroopity()\n",
    "        img_urls = filter_links(anchors)\n",
    "        save_imgs(img_urls)\n",
    "        \n",
    "    print(\"Changing wallpaper...\")\n",
    "    set_wall(folder)"
   ]
  },
  {
   "cell_type": "code",
   "execution_count": 1,
   "metadata": {
    "collapsed": true
   },
   "outputs": [],
   "source": [
    "def gen_folder():\n",
    "    '''\n",
    "    Returns tuple of true if the folder of the week already exists and the folder name.\n",
    "    '''\n",
    "    import datetime as dt\n",
    "    import os\n",
    "    \n",
    "    PIC_PATH = \"pictures/\"\n",
    "    os.chdir(PIC_PATH)\n",
    "    status = True\n",
    "    \n",
    "    if not os.path.isdir(dt.date.today().strftime(\"%d%m%Y\")):\n",
    "        status = False\n",
    "        os.makedirs(new_folder)\n",
    "    \n",
    "    return status, new_folder"
   ]
  },
  {
   "cell_type": "code",
   "execution_count": null,
   "metadata": {
    "collapsed": true
   },
   "outputs": [],
   "source": [
    "def scrapity_scroopity():\n",
    "    '''\n",
    "    Run query and return a list of anchor tags\n",
    "    \n",
    "    Notes:\n",
    "    https://www.analyticsvidhya.com/blog/2015/10/beginner-guide-web-scraping-beautiful-soup-python/\n",
    "    '''\n",
    "    import requests\n",
    "    from bs4 import BeautifulSoup\n",
    "    \n",
    "    url = \"https://www.reddit.com/r/spaceporn\"\n",
    "    page = requests.get(url)"
   ]
  },
  {
   "cell_type": "code",
   "execution_count": null,
   "metadata": {
    "collapsed": true
   },
   "outputs": [],
   "source": [
    "def filter_links(anchors):\n",
    "    '''\n",
    "    Parse the given list of anchor tags and return a list of urls satisfying the aspect ratio\n",
    "    \n",
    "    Notes:\n",
    "    https://askubuntu.com/questions/584688/how-can-i-get-the-monitor-resolution-using-the-command-line\n",
    "    http://rubular.com/\n",
    "    '''\n",
    "    import re\n",
    "    from constants import DEFAULT, TOL\n",
    "    anc_pass = []\n",
    "\n",
    "    print(TOL)\n",
    "    for anc in soup.find_all('a'):\n",
    "        res = re.search('\\d{4}\\s*[x]\\s*\\d{4}', str(anc))\n",
    "        if res:\n",
    "            # check aspect ratio of pic\n",
    "            w = int(res.group()[:4])\n",
    "            h = int(res.group()[-4:])\n",
    "            if abs(DEFAULT - w / h) < TOL:\n",
    "                anc_pass.append(anc)"
   ]
  },
  {
   "cell_type": "code",
   "execution_count": 11,
   "metadata": {
    "collapsed": false
   },
   "outputs": [],
   "source": [
    "def save_imgs(urls):\n",
    "    import shutil\n",
    "    \n",
    "    for i, url in enumerate(urls, 1):\n",
    "        response = requests.get(url, stream=True)\n",
    "        with open('img{}.png'.format(i), 'wb') as out_file:\n",
    "            shutil.copyfileobj(response.raw, out_file)"
   ]
  },
  {
   "cell_type": "code",
   "execution_count": null,
   "metadata": {
    "collapsed": true
   },
   "outputs": [],
   "source": [
    "def set_wall(folder):\n",
    "    '''\n",
    "    Selects and assigns a random wallpaper from the given folder.\n",
    "    \n",
    "    Notes:\n",
    "    https://askubuntu.com/questions/66914/how-to-change-desktop-background-from-command-line-in-unity\n",
    "    '''\n",
    "    import os\n",
    "    import subprocess as sp\n",
    "    from random import choice\n",
    "    \n",
    "    os.chdir(folder)\n",
    "    wall = choice(os.listdir())\n",
    "    try:\n",
    "        sp.check_output(['gsettings', 'set', 'org.gnome.desktop.background', 'picture-uri', 'file://{}'.format(wall)])\n",
    "    except sp.CalledProcessError as e:\n",
    "        print(\"An error occured while trying to change your wallpaper.\\n\"\n",
    "             \"Please ensure you have 'gsettings' installed.\")\n",
    "    "
   ]
  }
 ],
 "metadata": {
  "kernelspec": {
   "display_name": "Python 3",
   "language": "python",
   "name": "python3"
  },
  "language_info": {
   "codemirror_mode": {
    "name": "ipython",
    "version": 3
   },
   "file_extension": ".py",
   "mimetype": "text/x-python",
   "name": "python",
   "nbconvert_exporter": "python",
   "pygments_lexer": "ipython3",
   "version": "3.5.3"
  }
 },
 "nbformat": 4,
 "nbformat_minor": 2
}
